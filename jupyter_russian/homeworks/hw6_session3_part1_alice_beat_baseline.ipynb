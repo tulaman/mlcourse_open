{
 "cells": [
  {
   "cell_type": "markdown",
   "metadata": {},
   "source": [
    "<center>\n",
    "<img src=\"../../img/ods_stickers.jpg\">\n",
    "## Open Machine Learning Course\n",
    "<center>\n",
    "Author: Yury Kashnitsky, Data Scientist at Mail.Ru Group\n",
    "\n",
    "This material is subject to the terms and conditions of the license [Creative Commons CC BY-NC-SA 4.0](https://creativecommons.org/licenses/by-nc-sa/4.0/). Free use is permitted for any non-comercial purpose with an obligatory indication of the names of the authors and of the source."
   ]
  },
  {
   "cell_type": "markdown",
   "metadata": {},
   "source": [
    "## <center>Assignment #6. Part 1\n",
    "### <center> Beating benchmarks in \"Catch Me If You Can: Intruder Detection through Webpage Session Tracking\"\n",
    "    \n",
    "[Competition](https://www.kaggle.com/c/catch-me-if-you-can-intruder-detection-through-webpage-session-tracking2). The task is to beat \"Assignment 6 baseline\"."
   ]
  },
  {
   "cell_type": "code",
   "execution_count": 7,
   "metadata": {
    "collapsed": true
   },
   "outputs": [],
   "source": [
    "import warnings\n",
    "warnings.filterwarnings('ignore')\n",
    "%matplotlib inline\n",
    "from matplotlib import pyplot as plt\n",
    "import seaborn as sns\n",
    "import os\n",
    "import numpy as np\n",
    "import pandas as pd\n",
    "from scipy.sparse import csr_matrix, hstack, vstack\n",
    "from sklearn.preprocessing import StandardScaler, OneHotEncoder, MinMaxScaler, LabelEncoder\n",
    "from sklearn.model_selection import StratifiedKFold\n",
    "from sklearn.metrics import roc_auc_score\n",
    "from sklearn.linear_model import LogisticRegression, LogisticRegressionCV\n",
    "from sklearn.feature_extraction.text import TfidfVectorizer"
   ]
  },
  {
   "cell_type": "markdown",
   "metadata": {},
   "source": [
    "Reading original data"
   ]
  },
  {
   "cell_type": "code",
   "execution_count": 8,
   "metadata": {
    "collapsed": true
   },
   "outputs": [],
   "source": [
    "PATH_TO_DATA = ('/Users/lucky/.kaggle/competitions/catch-me-if-you-can-intruder-detection-through-webpage-session-tracking2')\n",
    "train_df = pd.read_csv(os.path.join(PATH_TO_DATA, 'train_sessions.csv'), index_col='session_id')\n",
    "test_df = pd.read_csv(os.path.join(PATH_TO_DATA, 'test_sessions.csv'), index_col='session_id')"
   ]
  },
  {
   "cell_type": "code",
   "execution_count": 9,
   "metadata": {
    "scrolled": true
   },
   "outputs": [
    {
     "name": "stdout",
     "output_type": "stream",
     "text": [
      "CPU times: user 48.6 s, sys: 830 ms, total: 49.4 s\n",
      "Wall time: 49.3 s\n"
     ]
    }
   ],
   "source": [
    "%%time\n",
    "\n",
    "site_cols = ['site'+str(i) for i in range(1, 11)]\n",
    "time_cols = ['time'+str(i) for i in range(1, 11)]\n",
    "\n",
    "def prepare_dataset(df, is_test=False):\n",
    "    \n",
    "    train_sites = train_df[site_cols].fillna(0).astype(int)\n",
    "    train_times = train_df[time_cols].fillna(method='ffill', axis=1).astype('datetime64[ns]')\n",
    "\n",
    "    list_to_concat = [train_sites, train_times]\n",
    "    if not is_test:\n",
    "        list_to_concat.append(train_df['target'])\n",
    "    df = pd.concat(list_to_concat, axis=1)\n",
    "\n",
    "    df['#unique_sites'] = train_sites.nunique(axis=1) / 10 # to scale the feature we divide it by 10\n",
    "\n",
    "    df['hour_of_day'] = df['time1'].dt.hour\n",
    "    df['day_of_week'] = df['time1'].dt.dayofweek\n",
    "    df['weekend'] = df['day_of_week'].apply(lambda d: 1 if d==5 or d==6 else 0)\n",
    "    df['part_of_day'] = df['hour_of_day'].apply(lambda h: 1 if h > 11 and h <= 13 else (\n",
    "                                                     2 if h > 15 and h <= 18 else (\n",
    "                                                     3 if h > 18 and h <= 24 \n",
    "                                                         else 4)))\n",
    "\n",
    "    df['session_span'] = (df.time10 - df.time1).astype('timedelta64[s]')\n",
    "    for i in range(1, 10):\n",
    "        df['diff'+str(i)] = (df['time'+str(i+1)] - df['time'+str(i)]).astype('timedelta64[s]')\n",
    "    \n",
    "    return df\n",
    "    \n",
    "train_dataset = prepare_dataset(train_df)\n",
    "test_dataset = prepare_dataset(test_df, is_test=True)"
   ]
  },
  {
   "cell_type": "markdown",
   "metadata": {},
   "source": [
    "Separate target feature "
   ]
  },
  {
   "cell_type": "code",
   "execution_count": 10,
   "metadata": {
    "scrolled": true
   },
   "outputs": [],
   "source": [
    "y = train_df['target']"
   ]
  },
  {
   "cell_type": "markdown",
   "metadata": {},
   "source": [
    "Build Tf-Idf features based on sites. You can use `ngram_range`=(1, 3) and `max_features`=100000 or more"
   ]
  },
  {
   "cell_type": "code",
   "execution_count": 11,
   "metadata": {},
   "outputs": [
    {
     "name": "stdout",
     "output_type": "stream",
     "text": [
      "CPU times: user 1min 14s, sys: 1.31 s, total: 1min 16s\n",
      "Wall time: 1min 16s\n"
     ]
    }
   ],
   "source": [
    "%%time\n",
    "\n",
    "train_sessions = train_dataset[site_cols].astype(str).apply(lambda s: ' '.join(s), axis=1)\n",
    "test_sessions = test_dataset[site_cols].astype(str).apply(lambda s: ' '.join(s), axis=1)\n",
    "\n",
    "# fit TfidfVectorizer with all sites from user sessions\n",
    "vec = TfidfVectorizer(ngram_range=(1, 3), max_features=200000, stop_words=['0'])\n",
    "vec = vec.fit(test_sessions.append(train_sessions))\n",
    "\n",
    "# generate sparse matrices\n",
    "train_v = vec.transform(train_sessions)\n",
    "test_v = vec.transform(test_sessions)"
   ]
  },
  {
   "cell_type": "markdown",
   "metadata": {},
   "source": [
    "Идеи:\n",
    "* Пользователи предпочитают пользоваться определённым поисковиком и определённой соцсетью, таким образом можно ввести категориальные признаки: поисковик, соцсеть со значениями (google, yandex, mail.ru, rambler, microsoft ... и facebook, vk, odnoklassniki ...)\n",
    "* Продолжительность пребывания на сайте может нести полезную информацию, поэтому разреженная матрица, где в строках сессии, а в столбцах сайты, со значением время пребывания за сессию может улучшить модель теоретически \n",
    "* Возможно сработают комбинации типа \"любимые сайты по утрам\" или \"любимые сайты по выходным\""
   ]
  },
  {
   "cell_type": "markdown",
   "metadata": {},
   "source": [
    "Add features based on the session start time: hour, whether it's morning, day or night and so on.\n",
    "Scale this features and combine then with Tf-Idf based on sites (you'll need `scipy.sparse.hstack`)"
   ]
  },
  {
   "cell_type": "code",
   "execution_count": null,
   "metadata": {},
   "outputs": [],
   "source": []
  },
  {
   "cell_type": "code",
   "execution_count": 12,
   "metadata": {},
   "outputs": [],
   "source": [
    "cat_features = ['hour_of_day', 'part_of_day', 'day_of_week', 'weekend']\n",
    "scalable_features = ['session_span']\n",
    "other_features = ['#unique_sites']\n",
    "all_features = cat_features + scalable_features + other_features\n",
    "\n",
    "features_train = train_dataset[all_features]\n",
    "features_test = test_dataset[all_features]\n",
    "\n",
    "scaler = MinMaxScaler()\n",
    "features_train[scalable_features] = scaler.fit_transform(features_train[scalable_features])\n",
    "features_test[scalable_features] = scaler.transform(features_test[scalable_features])"
   ]
  },
  {
   "cell_type": "code",
   "execution_count": 13,
   "metadata": {
    "collapsed": true
   },
   "outputs": [],
   "source": [
    "enc = LabelEncoder()\n",
    "enc.fit(cat_features)\n",
    "new_cat_features = enc.transform(cat_features)\n",
    "\n",
    "encoder = OneHotEncoder(categorical_features=new_cat_features)\n",
    "train_mtx = encoder.fit_transform(features_train)\n",
    "test_mtx = encoder.transform(features_test)"
   ]
  },
  {
   "cell_type": "code",
   "execution_count": 14,
   "metadata": {
    "collapsed": true
   },
   "outputs": [],
   "source": [
    "train_X = hstack([train_mtx, train_v])\n",
    "test_X = hstack([test_mtx, test_v])"
   ]
  },
  {
   "cell_type": "markdown",
   "metadata": {},
   "source": [
    "Perform cross-validation with logistic regression."
   ]
  },
  {
   "cell_type": "code",
   "execution_count": 15,
   "metadata": {},
   "outputs": [
    {
     "name": "stderr",
     "output_type": "stream",
     "text": [
      "[Parallel(n_jobs=-1)]: Done  10 out of  10 | elapsed: 22.5min finished\n"
     ]
    },
    {
     "name": "stdout",
     "output_type": "stream",
     "text": [
      "[LibLinear]CPU times: user 24.3 s, sys: 2.58 s, total: 26.9 s\n",
      "Wall time: 22min 52s\n"
     ]
    }
   ],
   "source": [
    "%%time\n",
    "skf = StratifiedKFold(n_splits=10, shuffle=True, random_state=42)\n",
    "logitCV = LogisticRegressionCV(\n",
    "        Cs=10,  # [1, 11.55, 12.0, 13.27],\n",
    "        penalty='l2',\n",
    "        scoring='roc_auc',\n",
    "        cv=skf,\n",
    "        random_state=42,\n",
    "        solver='liblinear',\n",
    "        n_jobs=-1,\n",
    "        refit=True,\n",
    "        verbose=2,\n",
    "        max_iter=100,\n",
    "        tol=0.0001\n",
    "    )\n",
    "\n",
    "logitCV.fit(train_X, y)\n",
    "\n",
    "\n",
    "os.system('say \"your program has finished\"')"
   ]
  },
  {
   "cell_type": "markdown",
   "metadata": {},
   "source": [
    "Let's evaluate our model:"
   ]
  },
  {
   "cell_type": "code",
   "execution_count": 16,
   "metadata": {},
   "outputs": [
    {
     "name": "stdout",
     "output_type": "stream",
     "text": [
      "AUC_ROC for our model: 0.988053446221\n"
     ]
    }
   ],
   "source": [
    "print ('AUC_ROC for our model:', logitCV.scores_[1].mean(axis=0).max())"
   ]
  },
  {
   "cell_type": "markdown",
   "metadata": {},
   "source": [
    "Experiments:\n",
    "\n",
    " * TFxIDF+hour,pod,dow,is_weekend,session_span,#unique sites /np.logspace(-7, 7, 15); l1; 3 folds/ = 0.98138\n",
    " * TFxIDF+hour,pod,dow,is_weekend,session_span,#unique sites /np.logspace(-2, 3, 9); l2; 3 folds/ = 0.98430\n",
    " * TFxIDF+hour,pod,dow,is_weekend,session_span,#unique sites /l2; 3 folds; ngram_range=(1,2), C=12.55/ = 0.98446\n",
    " * TFxIDF only /.../ = 0.95835\n",
    " * TFxIDF+hour,pod,dow,is_weekend,session_span,#unique sites /l2; 5 folds; ngram_range=(1,3), C=11.55/ = 0.98626403243\n",
    " * ... /10 folds/ = 0.98667\n",
    " * ... /tol=0.00001/ = 0.98667\n",
    " * ...+avg_per_site = 0.98668\n",
    " * ...+TFxIDF(max_features=200000) = 0.98671\n",
    " * ...+TFxIDF(max_features=500000) = 0.98598\n",
    " * tuned hour feature+TFxIDF(max_features=200000)  = 0.98671\n",
    " * ...+day,month,year = 0.99170 (probably overfit 0.90 on kaggle)\n",
    " * ...+month = 0.98994\n",
    " * TFxIDF+hour,pod,dow,is_weekend,session_span,#unique sites, tuned hour, avg_per_site/l2; 10 folds; ngram_range=(1,3), C=12./ = 0.98807\n",
    " * ... C=13.27 = 0.98808"
   ]
  },
  {
   "cell_type": "code",
   "execution_count": 17,
   "metadata": {
    "scrolled": true
   },
   "outputs": [
    {
     "data": {
      "text/plain": [
       "array([ 21.5443469])"
      ]
     },
     "execution_count": 17,
     "metadata": {},
     "output_type": "execute_result"
    }
   ],
   "source": [
    "logitCV.C_"
   ]
  },
  {
   "cell_type": "markdown",
   "metadata": {},
   "source": [
    "Make prediction for the test set and form a submission file."
   ]
  },
  {
   "cell_type": "code",
   "execution_count": 18,
   "metadata": {
    "collapsed": true
   },
   "outputs": [],
   "source": [
    "test_pred = logitCV.predict_proba(test_X)[:,1]\n",
    "test_pred = np.array(list(\"{:.6f}\".format(x) for x in test_pred))"
   ]
  },
  {
   "cell_type": "code",
   "execution_count": 19,
   "metadata": {
    "collapsed": true
   },
   "outputs": [],
   "source": [
    "def write_to_submission_file(predicted_labels, out_file,\n",
    "                             target='target', index_label=\"session_id\"):\n",
    "    predicted_df = pd.DataFrame(predicted_labels,\n",
    "                                index = np.arange(1, predicted_labels.shape[0] + 1),\n",
    "                                columns=[target])\n",
    "    predicted_df.to_csv(out_file, index_label=index_label)\n"
   ]
  },
  {
   "cell_type": "code",
   "execution_count": 20,
   "metadata": {
    "collapsed": true
   },
   "outputs": [],
   "source": [
    "write_to_submission_file(test_pred, \"assignment6_alice_submission.csv\")"
   ]
  }
 ],
 "metadata": {
  "anaconda-cloud": {},
  "kernelspec": {
   "display_name": "Python 3",
   "language": "python",
   "name": "python3"
  },
  "language_info": {
   "codemirror_mode": {
    "name": "ipython",
    "version": 3
   },
   "file_extension": ".py",
   "mimetype": "text/x-python",
   "name": "python",
   "nbconvert_exporter": "python",
   "pygments_lexer": "ipython3",
   "version": "3.6.3"
  }
 },
 "nbformat": 4,
 "nbformat_minor": 2
}
