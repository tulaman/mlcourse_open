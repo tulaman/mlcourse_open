{
 "cells": [
  {
   "cell_type": "markdown",
   "metadata": {},
   "source": [
    "<center>\n",
    "<img src=\"../../img/ods_stickers.jpg\">\n",
    "## Open Machine Learning Course\n",
    "<center>\n",
    "Author: Yury Kashnitsky, Data Scientist at Mail.Ru Group\n",
    "\n",
    "This material is subject to the terms and conditions of the license [Creative Commons CC BY-NC-SA 4.0](https://creativecommons.org/licenses/by-nc-sa/4.0/). Free use is permitted for any non-comercial purpose with an obligatory indication of the names of the authors and of the source."
   ]
  },
  {
   "cell_type": "markdown",
   "metadata": {},
   "source": [
    "## <center>Assignment #6. Part 1\n",
    "### <center> Beating benchmarks in \"Catch Me If You Can: Intruder Detection through Webpage Session Tracking\"\n",
    "    \n",
    "[Competition](https://www.kaggle.com/c/catch-me-if-you-can-intruder-detection-through-webpage-session-tracking2). The task is to beat \"Assignment 6 baseline\"."
   ]
  },
  {
   "cell_type": "code",
   "execution_count": 850,
   "metadata": {
    "collapsed": true
   },
   "outputs": [],
   "source": [
    "import warnings\n",
    "warnings.filterwarnings('ignore')\n",
    "%matplotlib inline\n",
    "from matplotlib import pyplot as plt\n",
    "import seaborn as sns\n",
    "import os\n",
    "import numpy as np\n",
    "import pandas as pd\n",
    "from scipy.sparse import csr_matrix, hstack, vstack\n",
    "from sklearn.preprocessing import StandardScaler, OneHotEncoder, MinMaxScaler, LabelEncoder\n",
    "from sklearn.model_selection import StratifiedKFold\n",
    "from sklearn.metrics import roc_auc_score\n",
    "from sklearn.linear_model import LogisticRegression, LogisticRegressionCV\n",
    "from sklearn.feature_extraction.text import TfidfVectorizer"
   ]
  },
  {
   "cell_type": "markdown",
   "metadata": {},
   "source": [
    "Reading original data"
   ]
  },
  {
   "cell_type": "code",
   "execution_count": 851,
   "metadata": {},
   "outputs": [],
   "source": [
    "PATH_TO_DATA = ('/Users/lucky/.kaggle/competitions/catch-me-if-you-can-intruder-detection-through-webpage-session-tracking2')\n",
    "train_df = pd.read_csv(os.path.join(PATH_TO_DATA, 'train_sessions.csv'), index_col='session_id')\n",
    "test_df = pd.read_csv(os.path.join(PATH_TO_DATA, 'test_sessions.csv'), index_col='session_id')"
   ]
  },
  {
   "cell_type": "code",
   "execution_count": null,
   "metadata": {},
   "outputs": [],
   "source": []
  },
  {
   "cell_type": "markdown",
   "metadata": {},
   "source": [
    "Separate target feature "
   ]
  },
  {
   "cell_type": "code",
   "execution_count": 852,
   "metadata": {
    "collapsed": true
   },
   "outputs": [],
   "source": [
    "y = train_df['target']"
   ]
  },
  {
   "cell_type": "code",
   "execution_count": null,
   "metadata": {
    "collapsed": true
   },
   "outputs": [],
   "source": []
  },
  {
   "cell_type": "markdown",
   "metadata": {},
   "source": [
    "Build Tf-Idf features based on sites. You can use `ngram_range`=(1, 3) and `max_features`=100000 or more"
   ]
  },
  {
   "cell_type": "code",
   "execution_count": 853,
   "metadata": {},
   "outputs": [
    {
     "name": "stdout",
     "output_type": "stream",
     "text": [
      "CPU times: user 1min 10s, sys: 978 ms, total: 1min 11s\n",
      "Wall time: 1min 11s\n"
     ]
    }
   ],
   "source": [
    "%%time\n",
    "\n",
    "# prepare columns (clean n/a values and convert them to integer then to strings)\n",
    "site_cols = ['site'+str(i) for i in range(1, 11)]\n",
    "train_sites = X_train[site_cols].fillna(0).astype(int)\n",
    "test_sites = test_df[site_cols].fillna(0).astype(int)\n",
    "\n",
    "# TODO: take a number of unique sites into account\n",
    "train_sites['#unique_sites'] = train_sites.nunique(axis=1) / 10\n",
    "test_sites['#unique_sites'] = test_sites.nunique(axis=1) / 10\n",
    "\n",
    "\n",
    "train_sessions = train_sites.astype(str).apply(lambda s: ' '.join(s), axis=1)\n",
    "test_sessions = test_sites.astype(str).apply(lambda s: ' '.join(s), axis=1)\n",
    "\n",
    "# fit TfidfVectorizer with all sites from user sessions\n",
    "vec = TfidfVectorizer(ngram_range=(1, 3), max_features=200000)\n",
    "full_sessions = test_sessions.append(train_sessions)\n",
    "vec = vec.fit(full_sessions)\n",
    "\n",
    "# generate sparse matrices\n",
    "train_v = vec.transform(train_sessions)\n",
    "test_v = vec.transform(test_sessions)"
   ]
  },
  {
   "cell_type": "markdown",
   "metadata": {},
   "source": [
    "Add features based on the session start time: hour, whether it's morning, day or night and so on."
   ]
  },
  {
   "cell_type": "code",
   "execution_count": 854,
   "metadata": {
    "collapsed": true
   },
   "outputs": [],
   "source": [
    "# separate \"timeN\" columns into another dataset and clean it up and convert to datetime\n",
    "timecols = ['time'+str(i) for i in range(1, 11)]\n",
    "train_times = X_train[timecols].fillna(method='ffill', axis=1).astype('datetime64[ns]')\n",
    "test_times = test_df[timecols].fillna(method='ffill', axis=1).astype('datetime64[ns]')\n",
    "\n",
    "def analyze_time_columns(df):\n",
    "    res = pd.DataFrame()\n",
    "    res['session_span'] = (df.max(axis=1) - df.min(axis=1)).astype('timedelta64[s]')\n",
    "    res['session_hour'] = df['time1'].dt.hour\n",
    "    res['session_pod'] = res['session_hour'].apply(lambda h: 1 if h > 11 and h <= 13 else (\n",
    "                                                     2 if h > 15 and h <= 18 else (\n",
    "                                                     3 if h > 18 and h <= 24 \n",
    "                                                         else 4)))\n",
    "    res['session_dow'] = df['time1'].dt.dayofweek\n",
    "    res['session_day'] = df['time1'].dt.day\n",
    "    res['session_month'] = df['time1'].dt.month\n",
    "    res['session_year'] = df['time1'].dt.year\n",
    "    res['is_weekend'] = res['session_dow'].apply(lambda d: 1 if d==5 or d==6 else 0)\n",
    "\n",
    "    return res\n",
    "    \n",
    "time_features_train = analyze_time_columns(train_times)\n",
    "time_features_test = analyze_time_columns(test_times)"
   ]
  },
  {
   "cell_type": "markdown",
   "metadata": {},
   "source": [
    "Let's visualize time based features"
   ]
  },
  {
   "cell_type": "code",
   "execution_count": 855,
   "metadata": {},
   "outputs": [],
   "source": [
    "#time_features_train = analyze_time_columns(train_times)\n",
    "alice_tf = train_times[train_df['target'] == 0]\n",
    "#alice_tf.time1.dt.month.hist()"
   ]
  },
  {
   "cell_type": "markdown",
   "metadata": {},
   "source": [
    "Scale this features and combine then with Tf-Idf based on sites (you'll need `scipy.sparse.hstack`)"
   ]
  },
  {
   "cell_type": "code",
   "execution_count": 856,
   "metadata": {},
   "outputs": [],
   "source": [
    "scaler = StandardScaler()\n",
    "\n",
    "time_features_train['avg_per_site'] = time_features_train['session_span'] / train_sites['#unique_sites']\n",
    "time_features_test['avg_per_site'] = time_features_test['session_span'] / test_sites['#unique_sites']\n",
    "\n",
    "time_features_train[['session_span', 'avg_per_site']] = scaler.fit_transform(time_features_train[['session_span', 'avg_per_site']])\n",
    "time_features_test[['session_span', 'avg_per_site']] = scaler.transform(time_features_test[['session_span', 'avg_per_site']])\n",
    "\n",
    "features_train = pd.concat([time_features_train, train_sites[['#unique_sites']]], axis=1)"
   ]
  },
  {
   "cell_type": "code",
   "execution_count": 857,
   "metadata": {},
   "outputs": [],
   "source": [
    "\n",
    "\n",
    "cat_features = ['session_hour', 'session_pod', 'session_dow', 'is_weekend', 'session_day', 'session_month', 'session_year']\n",
    "enc = LabelEncoder()\n",
    "enc.fit(cat_features)\n",
    "new_cat_features = enc.transform(cat_features)\n",
    "\n",
    "encoder = OneHotEncoder(categorical_features=new_cat_features)\n",
    "tf_train_mtx = encoder.fit_transform(time_features_train)\n",
    "tf_test_mtx = encoder.transform(time_features_test)"
   ]
  },
  {
   "cell_type": "code",
   "execution_count": 858,
   "metadata": {},
   "outputs": [],
   "source": [
    "train_dataset = hstack([tf_train_mtx, train_v ])\n",
    "test_dataset = hstack([tf_test_mtx, test_v])\n",
    "#train_dataset = train_v\n",
    "#test_dataset = test_v"
   ]
  },
  {
   "cell_type": "markdown",
   "metadata": {},
   "source": [
    "Perform cross-validation with logistic regression."
   ]
  },
  {
   "cell_type": "code",
   "execution_count": 859,
   "metadata": {},
   "outputs": [
    {
     "name": "stdout",
     "output_type": "stream",
     "text": [
      "CPU times: user 17.9 s, sys: 877 ms, total: 18.8 s\n",
      "Wall time: 5min 2s\n"
     ]
    }
   ],
   "source": [
    "%%time\n",
    "skf = StratifiedKFold(n_splits=10, shuffle=True, random_state=42)\n",
    "logitCV = LogisticRegressionCV(\n",
    "        Cs=[11.33, 11.55, 12.33],\n",
    "        penalty='l2',\n",
    "        scoring='roc_auc',\n",
    "        cv=skf,\n",
    "        random_state=42,\n",
    "        solver='liblinear',\n",
    "        n_jobs=-1,\n",
    "        refit=True,\n",
    "#        verbose=2,\n",
    "        tol=0.0001\n",
    "    )\n",
    "\n",
    "logitCV.fit(train_dataset, y_train)\n",
    "\n",
    "\n",
    "os.system('say \"your program has finished\"')"
   ]
  },
  {
   "cell_type": "markdown",
   "metadata": {},
   "source": [
    "Let's evaluate our model:"
   ]
  },
  {
   "cell_type": "code",
   "execution_count": 860,
   "metadata": {},
   "outputs": [
    {
     "name": "stdout",
     "output_type": "stream",
     "text": [
      "AUC_ROC for our model: 0.991703359184\n"
     ]
    }
   ],
   "source": [
    "print ('AUC_ROC for our model:', logitCV.scores_[1].mean(axis=0).max())"
   ]
  },
  {
   "cell_type": "markdown",
   "metadata": {},
   "source": [
    "Experiments:\n",
    "\n",
    " * TFxIDF+hour,pod,dow,is_weekend,session_span,#unique sites /np.logspace(-7, 7, 15); l1; 3 folds/ = 0.98138\n",
    " * TFxIDF+hour,pod,dow,is_weekend,session_span,#unique sites /np.logspace(-2, 3, 9); l2; 3 folds/ = 0.98430\n",
    " * TFxIDF+hour,pod,dow,is_weekend,session_span,#unique sites /l2; 3 folds; ngram_range=(1,2), C=12.55/ = 0.98446\n",
    " * TFxIDF only /.../ = 0.95835\n",
    " * TFxIDF+hour,pod,dow,is_weekend,session_span,#unique sites /l2; 5 folds; ngram_range=(1,3), C=11.55/ = 0.98626403243\n",
    " * ... /10 folds/ = 0.98667\n",
    " * ... /tol=0.00001/ = 0.98667\n",
    " * ...+avg_per_site = 0.98668\n",
    " * ...+TFxIDF(max_features=200000) = 0.98671\n",
    " * ...+TFxIDF(max_features=500000) = 0.98598\n",
    " * tuned hour feature+TFxIDF(max_features=200000)  = 0.98671\n",
    " * ...+day,month,year = 0.99170"
   ]
  },
  {
   "cell_type": "code",
   "execution_count": null,
   "metadata": {
    "scrolled": true
   },
   "outputs": [],
   "source": []
  },
  {
   "cell_type": "markdown",
   "metadata": {},
   "source": [
    "Make prediction for the test set and form a submission file."
   ]
  },
  {
   "cell_type": "code",
   "execution_count": 861,
   "metadata": {},
   "outputs": [],
   "source": [
    "test_pred = logitCV.predict_proba(test_dataset)[:,1]\n",
    "test_pred = np.array(list(\"{:.6f}\".format(x) for x in test_pred))"
   ]
  },
  {
   "cell_type": "code",
   "execution_count": 862,
   "metadata": {
    "collapsed": true
   },
   "outputs": [],
   "source": [
    "def write_to_submission_file(predicted_labels, out_file,\n",
    "                             target='target', index_label=\"session_id\"):\n",
    "    predicted_df = pd.DataFrame(predicted_labels,\n",
    "                                index = np.arange(1, predicted_labels.shape[0] + 1),\n",
    "                                columns=[target])\n",
    "    predicted_df.to_csv(out_file, index_label=index_label)\n"
   ]
  },
  {
   "cell_type": "code",
   "execution_count": 863,
   "metadata": {},
   "outputs": [],
   "source": [
    "write_to_submission_file(test_pred, \"assignment6_alice_submission.csv\")"
   ]
  }
 ],
 "metadata": {
  "anaconda-cloud": {},
  "kernelspec": {
   "display_name": "Python 3",
   "language": "python",
   "name": "python3"
  },
  "language_info": {
   "codemirror_mode": {
    "name": "ipython",
    "version": 3
   },
   "file_extension": ".py",
   "mimetype": "text/x-python",
   "name": "python",
   "nbconvert_exporter": "python",
   "pygments_lexer": "ipython3",
   "version": "3.6.3"
  }
 },
 "nbformat": 4,
 "nbformat_minor": 2
}
