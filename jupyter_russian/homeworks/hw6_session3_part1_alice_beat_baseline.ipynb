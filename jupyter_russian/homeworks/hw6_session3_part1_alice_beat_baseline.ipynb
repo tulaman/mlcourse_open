{
 "cells": [
  {
   "cell_type": "markdown",
   "metadata": {},
   "source": [
    "<center>\n",
    "<img src=\"../../img/ods_stickers.jpg\">\n",
    "## Open Machine Learning Course\n",
    "<center>\n",
    "Author: Yury Kashnitsky, Data Scientist at Mail.Ru Group\n",
    "\n",
    "This material is subject to the terms and conditions of the license [Creative Commons CC BY-NC-SA 4.0](https://creativecommons.org/licenses/by-nc-sa/4.0/). Free use is permitted for any non-comercial purpose with an obligatory indication of the names of the authors and of the source."
   ]
  },
  {
   "cell_type": "markdown",
   "metadata": {},
   "source": [
    "## <center>Assignment #6. Part 1\n",
    "### <center> Beating benchmarks in \"Catch Me If You Can: Intruder Detection through Webpage Session Tracking\"\n",
    "    \n",
    "[Competition](https://www.kaggle.com/c/catch-me-if-you-can-intruder-detection-through-webpage-session-tracking2). The task is to beat \"Assignment 6 baseline\"."
   ]
  },
  {
   "cell_type": "code",
   "execution_count": 88,
   "metadata": {},
   "outputs": [],
   "source": [
    "import warnings\n",
    "warnings.filterwarnings('ignore')\n",
    "%matplotlib inline\n",
    "from matplotlib import pyplot as plt\n",
    "import seaborn as sns\n",
    "import os\n",
    "import numpy as np\n",
    "import pandas as pd\n",
    "from scipy.sparse import csr_matrix, hstack\n",
    "from sklearn.preprocessing import StandardScaler, OneHotEncoder\n",
    "from sklearn.model_selection import StratifiedKFold\n",
    "from sklearn.metrics import roc_auc_score\n",
    "from sklearn.linear_model import LogisticRegression, LogisticRegressionCV\n",
    "from sklearn.feature_extraction.text import TfidfVectorizer"
   ]
  },
  {
   "cell_type": "markdown",
   "metadata": {},
   "source": [
    "Reading original data"
   ]
  },
  {
   "cell_type": "code",
   "execution_count": 89,
   "metadata": {},
   "outputs": [],
   "source": [
    "PATH_TO_DATA = ('/home/lucky/.kaggle/competitions/catch-me-if-you-can-intruder-detection-through-webpage-session-tracking2')\n",
    "train_df = pd.read_csv(os.path.join(PATH_TO_DATA, 'train_sessions.csv'), index_col='session_id')\n",
    "test_df = pd.read_csv(os.path.join(PATH_TO_DATA, 'test_sessions.csv'), index_col='session_id')"
   ]
  },
  {
   "cell_type": "markdown",
   "metadata": {},
   "source": [
    "Prepare our dataset. Replace N/A with 0 values and convert columns to appropriate types"
   ]
  },
  {
   "cell_type": "code",
   "execution_count": 90,
   "metadata": {},
   "outputs": [],
   "source": [
    "def prepare_dataset(df):\n",
    "    df = df.fillna(0)\n",
    "    for i in range(1, 11):\n",
    "        df['site' + str(i)] = df['site' + str(i)].astype(int)\n",
    "        df['time' + str(i)] = pd.to_datetime(df['time' + str(i)])\n",
    "    return df\n",
    "\n",
    "\n",
    "train_df = prepare_dataset(train_df)\n",
    "test_df = prepare_dataset(test_df)"
   ]
  },
  {
   "cell_type": "markdown",
   "metadata": {},
   "source": [
    "Separate target feature "
   ]
  },
  {
   "cell_type": "code",
   "execution_count": 91,
   "metadata": {},
   "outputs": [],
   "source": [
    "y = train_df['target']"
   ]
  },
  {
   "cell_type": "markdown",
   "metadata": {},
   "source": [
    "Build Tf-Idf features based on sites. You can use `ngram_range`=(1, 3) and `max_features`=100000 or more"
   ]
  },
  {
   "cell_type": "code",
   "execution_count": 92,
   "metadata": {},
   "outputs": [
    {
     "name": "stdout",
     "output_type": "stream",
     "text": [
      "CPU times: user 34.6 s, sys: 332 ms, total: 35 s\n",
      "Wall time: 35 s\n"
     ]
    }
   ],
   "source": [
    "%%time\n",
    "vectorizer = TfidfVectorizer(ngram_range=(1, 3), max_features=100000)\n",
    "\n",
    "df = train_df.append(test_df)\n",
    "df['sites'] = ''\n",
    "train_df['sites'] = ''\n",
    "test_df['sites'] = ''\n",
    "for i in range(1, 11):\n",
    "    df['sites'] = df['sites'] + ' ' + df['site' + str(i)].apply(lambda x: '' if x==0 else str(x))\n",
    "    train_df['sites'] = train_df['sites'] + ' ' + train_df['site' + str(i)].apply(lambda x: '' if x==0 else str(x))\n",
    "    test_df['sites'] = test_df['sites'] + ' ' + test_df['site' + str(i)].apply(lambda x: '' if x==0 else str(x))\n",
    "    \n",
    "vectorizer = vectorizer.fit(df['sites'])\n",
    "\n",
    "train_vectorized = vectorizer.transform(train_df['sites'])\n",
    "test_vectorized = vectorizer.transform(test_df['sites'])"
   ]
  },
  {
   "cell_type": "markdown",
   "metadata": {},
   "source": [
    "Add features based on the session start time: hour, whether it's morning, day or night and so on."
   ]
  },
  {
   "cell_type": "code",
   "execution_count": 93,
   "metadata": {},
   "outputs": [],
   "source": [
    "def analyze_session_start(df):\n",
    "    df['session_hour'] = df['time1'].dt.hour\n",
    "    df['morning'] = (df['session_hour'] > 6) & (df['session_hour'] <= 12)\n",
    "    df['day'] = (df['session_hour'] > 12) & (df['session_hour'] <= 18)\n",
    "    df['evening'] = (df['session_hour'] > 18) & (df['session_hour'] <= 24) \n",
    "    return df\n",
    "    \n",
    "train_df = analyze_session_start(train_df)\n",
    "test_df = analyze_session_start(test_df)"
   ]
  },
  {
   "cell_type": "markdown",
   "metadata": {},
   "source": [
    "Scale this features and combine then with Tf-Idf based on sites (you'll need `scipy.sparse.hstack`)"
   ]
  },
  {
   "cell_type": "code",
   "execution_count": null,
   "metadata": {},
   "outputs": [],
   "source": []
  },
  {
   "cell_type": "code",
   "execution_count": 94,
   "metadata": {},
   "outputs": [],
   "source": [
    "def normalize_features(df):\n",
    "    df['morning'] = df['morning'].astype(int)\n",
    "    df['day'] = df['day'].astype(int)\n",
    "    df['evening'] = df['evening'].astype(int)\n",
    "\n",
    "    scaler = StandardScaler()\n",
    "    df['session_hour'] = scaler.fit_transform(df[['session_hour']])\n",
    "    return df\n",
    "\n",
    "train_df = normalize_features(train_df)\n",
    "test_df = normalize_features(test_df)\n",
    "\n",
    "train_dataset = hstack([train_df[['session_hour', 'morning', 'day', 'evening']], train_vectorized])\n",
    "test_dataset = hstack([test_df[['session_hour', 'morning', 'day', 'evening']], test_vectorized])"
   ]
  },
  {
   "cell_type": "markdown",
   "metadata": {},
   "source": [
    "Perform cross-validation with logistic regression."
   ]
  },
  {
   "cell_type": "code",
   "execution_count": 95,
   "metadata": {},
   "outputs": [
    {
     "name": "stdout",
     "output_type": "stream",
     "text": [
      "Max auc_roc: 0.860981414435\n",
      "CPU times: user 3min 57s, sys: 800 ms, total: 3min 58s\n",
      "Wall time: 25min 24s\n"
     ]
    }
   ],
   "source": [
    "%%time\n",
    "skf = StratifiedKFold(n_splits=5, shuffle=True, random_state=42)\n",
    "searchCV = LogisticRegressionCV(\n",
    "        Cs=10,\n",
    "        penalty='l1',\n",
    "        scoring='roc_auc',\n",
    "        cv=skf,\n",
    "        random_state=42,\n",
    "        solver='liblinear',\n",
    "        n_jobs=-1\n",
    "#        tol=10\n",
    "    )\n",
    "\n",
    "searchCV.fit(train_dataset, y)\n",
    "#searchCV.fit(train_vectorized, y)\n",
    "print ('Max auc_roc:', searchCV.scores_[1].mean(axis=1).max())\n",
    "\n",
    "os.system('spd-say \"your program has finished\"')"
   ]
  },
  {
   "cell_type": "markdown",
   "metadata": {},
   "source": [
    "Make prediction for the test set and form a submission file."
   ]
  },
  {
   "cell_type": "code",
   "execution_count": 96,
   "metadata": {},
   "outputs": [],
   "source": [
    "test_pred = searchCV.predict(test_dataset)"
   ]
  },
  {
   "cell_type": "code",
   "execution_count": 97,
   "metadata": {},
   "outputs": [],
   "source": [
    "def write_to_submission_file(predicted_labels, out_file,\n",
    "                             target='target', index_label=\"session_id\"):\n",
    "    predicted_df = pd.DataFrame(predicted_labels,\n",
    "                                index = np.arange(1, predicted_labels.shape[0] + 1),\n",
    "                                columns=[target])\n",
    "    predicted_df.to_csv(out_file, index_label=index_label)\n"
   ]
  },
  {
   "cell_type": "code",
   "execution_count": 98,
   "metadata": {},
   "outputs": [],
   "source": [
    "write_to_submission_file(test_pred, \"assignment6_alice_submission.csv\")"
   ]
  }
 ],
 "metadata": {
  "anaconda-cloud": {},
  "kernelspec": {
   "display_name": "Python [default]",
   "language": "python",
   "name": "python3"
  },
  "language_info": {
   "codemirror_mode": {
    "name": "ipython",
    "version": 3
   },
   "file_extension": ".py",
   "mimetype": "text/x-python",
   "name": "python",
   "nbconvert_exporter": "python",
   "pygments_lexer": "ipython3",
   "version": "3.5.4"
  }
 },
 "nbformat": 4,
 "nbformat_minor": 2
}
